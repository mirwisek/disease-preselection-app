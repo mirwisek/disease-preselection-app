{
 "cells": [
  {
   "cell_type": "code",
   "execution_count": null,
   "metadata": {},
   "outputs": [],
   "source": [
    "from mistralai import Mistral\n",
    "\n",
    "class ChatBot:\n",
    "    def __init__(self, api_key):\n",
    "        self.api_key = api_key\n",
    "        self.history = []\n",
    "        self.client = Mistral(api_key=api_key)\n",
    "        self.model = \"mistral-large-latest\"\n",
    "\n",
    "\n",
    "    def get_response(self, question):\n",
    "        chat_response = self.client.chat.complete(\n",
    "            model = self.model,\n",
    "            messages = [\n",
    "                *self.history,\n",
    "                {\n",
    "                    \"role\": \"user\",\n",
    "                    \"content\": question,\n",
    "                },\n",
    "            ]\n",
    "        )\n",
    "        self.history.append(\n",
    "            {\n",
    "                \"role\": chat_response.choices[0].message.role,\n",
    "                \"content\": chat_response.choices[0].message.content,\n",
    "            }\n",
    "        )\n",
    "        return chat_response.choices[0].message.content\n",
    "\n",
    "\n",
    "chatbot = ChatBot(api_key)\n",
    "\n",
    "\n",
    "question = \"What is the capital of France?\"\n",
    "answer = chatbot.get_response(question)\n",
    "print(f\"Q: {question}\\nA: {answer}\")\n",
    "\n",
    "\n",
    "question = \"What its population?\"\n",
    "answer = chatbot.get_response(question)\n",
    "print(f\"Q: {question}\\nA: {answer}\")\n",
    "\n",
    "\n",
    "print(\"Conversation History:\")\n",
    "for entry in chatbot.history:\n",
    "    print(f\"{entry['role']}: {entry['content']}\")"
   ]
  }
 ],
 "metadata": {
  "kernelspec": {
   "display_name": ".venv",
   "language": "python",
   "name": "python3"
  },
  "language_info": {
   "name": "python",
   "version": "3.11.4"
  }
 },
 "nbformat": 4,
 "nbformat_minor": 2
}
